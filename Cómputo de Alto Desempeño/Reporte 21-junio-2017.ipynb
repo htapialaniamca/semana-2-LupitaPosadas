{
 "cells": [
  {
   "cell_type": "markdown",
   "metadata": {},
   "source": [
    "# Reporte de la clase del día 21/junio/2017"
   ]
  },
  {
   "cell_type": "markdown",
   "metadata": {
    "collapsed": true
   },
   "source": [
    "## Conexión a la raspberry rpi-lania5 desde vnc:\n",
    "\n",
    "* usuario: pi \n",
    "* contraseña: lania5\n",
    "\n",
    "<img src=\"conexion.jpg\"/>\n",
    "\n",
    "## Abrir terminal de la raspberry\n",
    "\n",
    "<img src=\"terminal.jpg\"/>\n",
    "\n",
    "\n",
    "## Ejecutar el comando para ejecutar el archivo primero.py desde rpi-lania5 a las otras raspberry\n",
    "* Entrar a comades/python: \n",
    "  * cd comades/python\n",
    "<img src=\"entrar comades.jpg\"/>\n",
    "\n",
    "* ejecutar el comando:\n",
    "  * mpiexec -n 5 --host rpi-lania5.local, rpi-lania1.local,rpi-lania2.local,rpi.lania3.local,rpi-lania4.local/usr/bin/python primero.py\n",
    "\n",
    "\n",
    "<img src=\"mpiexe.jpg\"/>\n",
    "Me mostraba error porque escribí mal el comando\n",
    "\n",
    "* ejecutando el comando correcto \n",
    "<img src=\"x.jpg\"/>\n",
    "Marcaba error: 5 total processes failed to start"
   ]
  },
  {
   "cell_type": "code",
   "execution_count": null,
   "metadata": {
    "collapsed": true
   },
   "outputs": [],
   "source": []
  }
 ],
 "metadata": {
  "kernelspec": {
   "display_name": "Python 3",
   "language": "python",
   "name": "python3"
  },
  "language_info": {
   "codemirror_mode": {
    "name": "ipython",
    "version": 3
   },
   "file_extension": ".py",
   "mimetype": "text/x-python",
   "name": "python",
   "nbconvert_exporter": "python",
   "pygments_lexer": "ipython3",
   "version": "3.6.0"
  }
 },
 "nbformat": 4,
 "nbformat_minor": 2
}
